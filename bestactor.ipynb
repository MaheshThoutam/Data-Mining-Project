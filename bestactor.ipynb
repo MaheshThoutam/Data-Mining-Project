{
 "cells": [
  {
   "cell_type": "code",
   "execution_count": 9,
   "metadata": {
    "collapsed": true
   },
   "outputs": [],
   "source": [
    "# Import all libraries needed for the tutorial\n",
    "\n",
    "# General syntax to import specific functions in a library: \n",
    "##from (library) import (specific library function)\n",
    "from pandas import DataFrame, read_csv\n",
    "\n",
    "# General syntax to import a library but no functions: \n",
    "##import (library) as (give the library a nickname/alias)\n",
    "import matplotlib.pyplot as plt\n",
    "import pandas as pd #this is how I usually import pandas\n",
    "import sys #only needed to determine Python version number\n",
    "import matplotlib #only needed to determine Matplotlib version number\n",
    "\n",
    "# Enable inline plotting\n",
    "%matplotlib inline"
   ]
  },
  {
   "cell_type": "code",
   "execution_count": 10,
   "metadata": {
    "collapsed": false
   },
   "outputs": [],
   "source": [
    "#Reading CSV data\n",
    "df = pd.read_csv(\"best_actor_prev_data_test.csv\", encoding='cp1252',na_values=\" NaN\")\n",
    "df = df.dropna(axis=0, how='any')\n",
    "test_data = df[df.columns[1:7]]\n",
    "test_data\n",
    "test_data_oscars = df[df.columns[7]]\n",
    "\n",
    "df_prediction = pd.read_csv(\"best_actor_predictionData.csv\",encoding='cp1252',na_values=\" NaN\").dropna(axis=0, how='any')\n",
    "pred_data = df_prediction[df_prediction.columns[1:7]]\n",
    "\n"
   ]
  },
  {
   "cell_type": "code",
   "execution_count": null,
   "metadata": {
    "collapsed": false
   },
   "outputs": [],
   "source": [
    "import sklearn.linear_model as lm\n",
    "lr = lm.LinearRegression()\n",
    "lr.fit(test_data,test_data_oscars)\n",
    "\n",
    "oscar_lr = lr.predict(pred_data)\n",
    "result = DataFrame(columns=[\"BestActor\",\"Prediction\"])\n",
    "result[[\"BestActor\"]] = df_prediction[[df_prediction.columns[0]]]\n",
    "result[\"Prediction\"] = oscar_lr.tolist()\n",
    "result = result.sort([\"Prediction\"],ascending=False)\n",
    "result.index = range(1,len(result) + 1)\n",
    "result "
   ]
  },
  {
   "cell_type": "code",
   "execution_count": 3,
   "metadata": {
    "collapsed": false
   },
   "outputs": [
    {
     "data": {
      "text/plain": [
       "'0.15.0'"
      ]
     },
     "execution_count": 3,
     "metadata": {},
     "output_type": "execute_result"
    }
   ],
   "source": [
    "import pandas as pd \n",
    "pd.__version__\n",
    "\n"
   ]
  },
  {
   "cell_type": "code",
   "execution_count": null,
   "metadata": {
    "collapsed": true
   },
   "outputs": [],
   "source": []
  }
 ],
 "metadata": {
  "kernelspec": {
   "display_name": "Python 3",
   "language": "python",
   "name": "python3"
  },
  "language_info": {
   "codemirror_mode": {
    "name": "ipython",
    "version": 3
   },
   "file_extension": ".py",
   "mimetype": "text/x-python",
   "name": "python",
   "nbconvert_exporter": "python",
   "pygments_lexer": "ipython3",
   "version": "3.4.3+"
  }
 },
 "nbformat": 4,
 "nbformat_minor": 0
}
