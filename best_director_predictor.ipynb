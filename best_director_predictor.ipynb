{
 "cells": [
  {
   "cell_type": "code",
   "execution_count": 10,
   "metadata": {
    "collapsed": true
   },
   "outputs": [],
   "source": [
    "# Import all libraries needed for the tutorial\n",
    "\n",
    "# General syntax to import specific functions in a library: \n",
    "##from (library) import (specific library function)\n",
    "from pandas import DataFrame, read_csv\n",
    "\n",
    "# General syntax to import a library but no functions: \n",
    "##import (library) as (give the library a nickname/alias)\n",
    "import matplotlib.pyplot as plt\n",
    "import pandas as pd #this is how I usually import pandas\n",
    "import sys #only needed to determine Python version number\n",
    "import matplotlib #only needed to determine Matplotlib version number\n",
    "\n",
    "# Enable inline plotting\n",
    "%matplotlib inline"
   ]
  },
  {
   "cell_type": "code",
   "execution_count": 11,
   "metadata": {
    "collapsed": false
   },
   "outputs": [],
   "source": [
    "#Reading CSV data\n",
    "df = pd.read_csv(\"best_director_data_test.csv\", encoding='cp1252',na_values=\" NaN\")\n",
    "df = df.dropna(axis=0, how='any')\n",
    "test_data = df[df.columns[1:7]]\n",
    "test_data\n",
    "test_data_oscars = df[df.columns[7]]\n",
    "\n",
    "df_prediction = pd.read_csv(\"best_director_predictionData.csv\",encoding='cp1252',na_values=\" NaN\").dropna(axis=0, how='any')\n",
    "pred_data = df_prediction[df_prediction.columns[1:7]]\n",
    "\n"
   ]
  },
  {
   "cell_type": "code",
   "execution_count": 12,
   "metadata": {
    "collapsed": false
   },
   "outputs": [
    {
     "data": {
      "text/html": [
       "<div style=\"max-height:1000px;max-width:1500px;overflow:auto;\">\n",
       "<table border=\"1\" class=\"dataframe\">\n",
       "  <thead>\n",
       "    <tr style=\"text-align: right;\">\n",
       "      <th></th>\n",
       "      <th>BestDirector</th>\n",
       "      <th>Prediction</th>\n",
       "    </tr>\n",
       "  </thead>\n",
       "  <tbody>\n",
       "    <tr>\n",
       "      <th>1</th>\n",
       "      <td>       George Miller </td>\n",
       "      <td> 3.793684</td>\n",
       "    </tr>\n",
       "    <tr>\n",
       "      <th>2</th>\n",
       "      <td>          Adam McKay </td>\n",
       "      <td> 0.671333</td>\n",
       "    </tr>\n",
       "    <tr>\n",
       "      <th>3</th>\n",
       "      <td>          Todd Haynes</td>\n",
       "      <td> 0.613136</td>\n",
       "    </tr>\n",
       "    <tr>\n",
       "      <th>4</th>\n",
       "      <td>     Steven Spielberg</td>\n",
       "      <td> 0.420022</td>\n",
       "    </tr>\n",
       "    <tr>\n",
       "      <th>5</th>\n",
       "      <td> Alejandro G. Irritu </td>\n",
       "      <td> 0.195042</td>\n",
       "    </tr>\n",
       "    <tr>\n",
       "      <th>6</th>\n",
       "      <td>         Ridley Scott</td>\n",
       "      <td> 0.184732</td>\n",
       "    </tr>\n",
       "    <tr>\n",
       "      <th>7</th>\n",
       "      <td>        Tom McCarthy </td>\n",
       "      <td> 0.072797</td>\n",
       "    </tr>\n",
       "    <tr>\n",
       "      <th>8</th>\n",
       "      <td>     Lenny Abrahamson</td>\n",
       "      <td>-0.324931</td>\n",
       "    </tr>\n",
       "  </tbody>\n",
       "</table>\n",
       "</div>"
      ],
      "text/plain": [
       "           BestDirector  Prediction\n",
       "1        George Miller     3.793684\n",
       "2           Adam McKay     0.671333\n",
       "3           Todd Haynes    0.613136\n",
       "4      Steven Spielberg    0.420022\n",
       "5  Alejandro G. Irritu     0.195042\n",
       "6          Ridley Scott    0.184732\n",
       "7         Tom McCarthy     0.072797\n",
       "8      Lenny Abrahamson   -0.324931"
      ]
     },
     "execution_count": 12,
     "metadata": {},
     "output_type": "execute_result"
    }
   ],
   "source": [
    "import sklearn.linear_model as lm\n",
    "lr = lm.LinearRegression()\n",
    "lr.fit(test_data,test_data_oscars)\n",
    "\n",
    "oscar_lr = lr.predict(pred_data)\n",
    "result = DataFrame(columns=[\"BestDirector\",\"Prediction\"])\n",
    "result[[\"BestDirector\"]] = df_prediction[[df_prediction.columns[0]]]\n",
    "result[\"Prediction\"] = oscar_lr.tolist()\n",
    "result = result.sort([\"Prediction\"],ascending=False)\n",
    "result.index = range(1,len(result) + 1)\n",
    "result "
   ]
  },
  {
   "cell_type": "code",
   "execution_count": null,
   "metadata": {
    "collapsed": true
   },
   "outputs": [],
   "source": []
  }
 ],
 "metadata": {
  "kernelspec": {
   "display_name": "Python 3",
   "language": "python",
   "name": "python3"
  },
  "language_info": {
   "codemirror_mode": {
    "name": "ipython",
    "version": 3
   },
   "file_extension": ".py",
   "mimetype": "text/x-python",
   "name": "python",
   "nbconvert_exporter": "python",
   "pygments_lexer": "ipython3",
   "version": "3.4.3+"
  }
 },
 "nbformat": 4,
 "nbformat_minor": 0
}
