{
 "cells": [
  {
   "cell_type": "code",
   "execution_count": 2,
   "metadata": {
    "collapsed": false
   },
   "outputs": [],
   "source": [
    "\n",
    "\n",
    "# Import all libraries needed for the tutorial\n",
    "\n",
    "# General syntax to import specific functions in a library: \n",
    "##from (library) import (specific library function)\n",
    "from pandas import DataFrame, read_csv\n",
    "\n",
    "# General syntax to import a library but no functions: \n",
    "##import (library) as (give the library a nickname/alias)\n",
    "import matplotlib.pyplot as plt\n",
    "import pandas as pd #this is how I usually import pandas\n",
    "import sys #only needed to determine Python version number\n",
    "import matplotlib #only needed to determine Matplotlib version number\n",
    "\n",
    "# Enable inline plotting\n",
    "%matplotlib inline\n"
   ]
  },
  {
   "cell_type": "code",
   "execution_count": 7,
   "metadata": {
    "collapsed": false
   },
   "outputs": [],
   "source": [
    "#Reading CSV data FOR Best Actress .\n",
    "df = pd.read_csv(\"best_actress_prev_data_test.csv\", encoding='cp1252',na_values=\" NaN\")\n",
    "df = df.dropna(axis=0, how='any')\n",
    "test_data = df[df.columns[1:7]]\n",
    "test_data\n",
    "test_data_oscars = df[df.columns[7]]\n",
    "\n",
    "df_prediction = pd.read_csv(\"best_actress_predictionData.csv\",encoding='cp1252',na_values=\" NaN\").dropna(axis=0, how='any')\n",
    "pred_data = df_prediction[df_prediction.columns[1:7]]"
   ]
  },
  {
   "cell_type": "code",
   "execution_count": 8,
   "metadata": {
    "collapsed": false
   },
   "outputs": [
    {
     "data": {
      "text/html": [
       "<div>\n",
       "<table border=\"1\" class=\"dataframe\">\n",
       "  <thead>\n",
       "    <tr style=\"text-align: right;\">\n",
       "      <th></th>\n",
       "      <th>Actress</th>\n",
       "      <th>Prediction</th>\n",
       "    </tr>\n",
       "  </thead>\n",
       "  <tbody>\n",
       "    <tr>\n",
       "      <th>1</th>\n",
       "      <td>Brie Larson</td>\n",
       "      <td>3.833964</td>\n",
       "    </tr>\n",
       "    <tr>\n",
       "      <th>2</th>\n",
       "      <td>Saoirse Ronan</td>\n",
       "      <td>1.493233</td>\n",
       "    </tr>\n",
       "    <tr>\n",
       "      <th>3</th>\n",
       "      <td>Cate Blanchett</td>\n",
       "      <td>1.042652</td>\n",
       "    </tr>\n",
       "    <tr>\n",
       "      <th>4</th>\n",
       "      <td>Alicia Vikander</td>\n",
       "      <td>0.841605</td>\n",
       "    </tr>\n",
       "    <tr>\n",
       "      <th>5</th>\n",
       "      <td>Maggie Smith</td>\n",
       "      <td>0.538003</td>\n",
       "    </tr>\n",
       "    <tr>\n",
       "      <th>6</th>\n",
       "      <td>Charlotte Rampling</td>\n",
       "      <td>0.305332</td>\n",
       "    </tr>\n",
       "    <tr>\n",
       "      <th>7</th>\n",
       "      <td>Jennifer Lawrence</td>\n",
       "      <td>0.211298</td>\n",
       "    </tr>\n",
       "    <tr>\n",
       "      <th>8</th>\n",
       "      <td>Charlize Theron</td>\n",
       "      <td>0.198318</td>\n",
       "    </tr>\n",
       "  </tbody>\n",
       "</table>\n",
       "</div>"
      ],
      "text/plain": [
       "              Actress  Prediction\n",
       "1         Brie Larson    3.833964\n",
       "2       Saoirse Ronan    1.493233\n",
       "3      Cate Blanchett    1.042652\n",
       "4    Alicia Vikander     0.841605\n",
       "5        Maggie Smith    0.538003\n",
       "6  Charlotte Rampling    0.305332\n",
       "7   Jennifer Lawrence    0.211298\n",
       "8     Charlize Theron    0.198318"
      ]
     },
     "execution_count": 8,
     "metadata": {},
     "output_type": "execute_result"
    }
   ],
   "source": [
    "import sklearn.linear_model as lm\n",
    "lr = lm.LinearRegression()\n",
    "lr.fit(test_data,test_data_oscars)\n",
    "\n",
    "oscar_lr = lr.predict(pred_data)\n",
    "result = DataFrame(columns=[\"Actress\",\"Prediction\"])\n",
    "result[[\"Actress\"]] = df_prediction[[df_prediction.columns[0]]]\n",
    "result[\"Prediction\"] = oscar_lr.tolist()\n",
    "result = result.sort_values(by=\"Prediction\",ascending=False)\n",
    "result.index = range(1,len(result) + 1)\n",
    "result "
   ]
  },
  {
   "cell_type": "code",
   "execution_count": null,
   "metadata": {
    "collapsed": true
   },
   "outputs": [],
   "source": [
    "import pandas as pd\n",
    "pd.__version__"
   ]
  },
  {
   "cell_type": "code",
   "execution_count": null,
   "metadata": {
    "collapsed": true
   },
   "outputs": [],
   "source": []
  }
 ],
 "metadata": {
  "kernelspec": {
   "display_name": "Python 2 (SageMath)",
   "language": "python",
   "name": "python2"
  },
  "language_info": {
   "codemirror_mode": {
    "name": "ipython",
    "version": 2
   },
   "file_extension": ".py",
   "mimetype": "text/x-python",
   "name": "python",
   "nbconvert_exporter": "python",
   "pygments_lexer": "ipython2",
   "version": "2.7.10"
  }
 },
 "nbformat": 4,
 "nbformat_minor": 0
}
