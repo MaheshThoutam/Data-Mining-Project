{
 "cells": [
  {
   "cell_type": "code",
   "execution_count": 1,
   "metadata": {
    "collapsed": true
   },
   "outputs": [],
   "source": [
    "# Import all libraries needed for the tutorial\n",
    "\n",
    "# General syntax to import specific functions in a library: \n",
    "##from (library) import (specific library function)\n",
    "from pandas import DataFrame, read_csv\n",
    "\n",
    "# General syntax to import a library but no functions: \n",
    "##import (library) as (give the library a nickname/alias)\n",
    "import matplotlib.pyplot as plt\n",
    "import pandas as pd #this is how I usually import pandas\n",
    "import sys #only needed to determine Python version number\n",
    "import matplotlib #only needed to determine Matplotlib version number\n",
    "\n",
    "# Enable inline plotting\n",
    "%matplotlib inline"
   ]
  },
  {
   "cell_type": "code",
   "execution_count": 3,
   "metadata": {
    "collapsed": false
   },
   "outputs": [],
   "source": [
    "#Reading CSV data\n",
    "df = pd.read_csv(\"best_actor_supp_data_test.csv\", encoding='cp1252',na_values=\" NaN\")\n",
    "df = df.dropna(axis=0, how='any')\n",
    "test_data = df[df.columns[1:7]]\n",
    "test_data\n",
    "test_data_oscars = df[df.columns[7]]\n",
    "\n",
    "df_prediction = pd.read_csv(\"best_actor_supp_predictionData.csv\",encoding='cp1252',na_values=\" NaN\").dropna(axis=0, how='any')\n",
    "pred_data = df_prediction[df_prediction.columns[1:7]]\n",
    "\n"
   ]
  },
  {
   "cell_type": "code",
   "execution_count": 5,
   "metadata": {
    "collapsed": false
   },
   "outputs": [
    {
     "data": {
      "text/html": [
       "<div style=\"max-height:1000px;max-width:1500px;overflow:auto;\">\n",
       "<table border=\"1\" class=\"dataframe\">\n",
       "  <thead>\n",
       "    <tr style=\"text-align: right;\">\n",
       "      <th></th>\n",
       "      <th>BestActorSupporting</th>\n",
       "      <th>Prediction</th>\n",
       "    </tr>\n",
       "  </thead>\n",
       "  <tbody>\n",
       "    <tr>\n",
       "      <th>1 </th>\n",
       "      <td> Sylvester Stallone </td>\n",
       "      <td> 4.589977</td>\n",
       "    </tr>\n",
       "    <tr>\n",
       "      <th>2 </th>\n",
       "      <td>        Mark Rylance</td>\n",
       "      <td> 1.038975</td>\n",
       "    </tr>\n",
       "    <tr>\n",
       "      <th>3 </th>\n",
       "      <td>           Paul Dano</td>\n",
       "      <td> 0.626778</td>\n",
       "    </tr>\n",
       "    <tr>\n",
       "      <th>4 </th>\n",
       "      <td>          Idris Elba</td>\n",
       "      <td> 0.548233</td>\n",
       "    </tr>\n",
       "    <tr>\n",
       "      <th>5 </th>\n",
       "      <td>        Mark Ruffalo</td>\n",
       "      <td>-0.314097</td>\n",
       "    </tr>\n",
       "    <tr>\n",
       "      <th>6 </th>\n",
       "      <td>           Tom Hardy</td>\n",
       "      <td>-0.321406</td>\n",
       "    </tr>\n",
       "    <tr>\n",
       "      <th>7 </th>\n",
       "      <td>      Christian Bale</td>\n",
       "      <td>-0.399951</td>\n",
       "    </tr>\n",
       "    <tr>\n",
       "      <th>8 </th>\n",
       "      <td>     Michael Shannon</td>\n",
       "      <td>-0.445986</td>\n",
       "    </tr>\n",
       "    <tr>\n",
       "      <th>9 </th>\n",
       "      <td>         Sam Elliott</td>\n",
       "      <td>-0.531840</td>\n",
       "    </tr>\n",
       "    <tr>\n",
       "      <th>10</th>\n",
       "      <td>    Benicio del Toro</td>\n",
       "      <td>-1.022850</td>\n",
       "    </tr>\n",
       "  </tbody>\n",
       "</table>\n",
       "</div>"
      ],
      "text/plain": [
       "    BestActorSupporting  Prediction\n",
       "1   Sylvester Stallone     4.589977\n",
       "2          Mark Rylance    1.038975\n",
       "3             Paul Dano    0.626778\n",
       "4            Idris Elba    0.548233\n",
       "5          Mark Ruffalo   -0.314097\n",
       "6             Tom Hardy   -0.321406\n",
       "7        Christian Bale   -0.399951\n",
       "8       Michael Shannon   -0.445986\n",
       "9           Sam Elliott   -0.531840\n",
       "10     Benicio del Toro   -1.022850"
      ]
     },
     "execution_count": 5,
     "metadata": {},
     "output_type": "execute_result"
    }
   ],
   "source": [
    "import sklearn.linear_model as lm\n",
    "lr = lm.LinearRegression()\n",
    "lr.fit(test_data,test_data_oscars)\n",
    "\n",
    "oscar_lr = lr.predict(pred_data)\n",
    "result = DataFrame(columns=[\"BestActorSupporting\",\"Prediction\"])\n",
    "result[[\"BestActorSupporting\"]] = df_prediction[[df_prediction.columns[0]]]\n",
    "result[\"Prediction\"] = oscar_lr.tolist()\n",
    "result = result.sort([\"Prediction\"],ascending=False)\n",
    "result.index = range(1,len(result) + 1)\n",
    "result "
   ]
  },
  {
   "cell_type": "code",
   "execution_count": null,
   "metadata": {
    "collapsed": true
   },
   "outputs": [],
   "source": []
  }
 ],
 "metadata": {
  "kernelspec": {
   "display_name": "Python 3",
   "language": "python",
   "name": "python3"
  },
  "language_info": {
   "codemirror_mode": {
    "name": "ipython",
    "version": 3
   },
   "file_extension": ".py",
   "mimetype": "text/x-python",
   "name": "python",
   "nbconvert_exporter": "python",
   "pygments_lexer": "ipython3",
   "version": "3.4.3+"
  }
 },
 "nbformat": 4,
 "nbformat_minor": 0
}
